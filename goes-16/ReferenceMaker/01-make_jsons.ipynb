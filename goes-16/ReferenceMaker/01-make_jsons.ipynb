{
 "cells": [
  {
   "cell_type": "markdown",
   "id": "c7fa57fc-3b15-4ca8-86b2-1b040b449274",
   "metadata": {},
   "source": [
    "# Create JSONS with fsspec ReferenceMaker\n",
    "## 24 hours of GOES data\n",
    "Needed:\n",
    "- fsspec-reference-maker\n",
    "    - `pip install git+https://github.com/intake/fsspec-reference-maker`\n",
    "- adlfs >= 0.7.7\n",
    "    - `pip install --upgrade adlfs>=0.7.7`"
   ]
  },
  {
   "cell_type": "code",
   "execution_count": 1,
   "id": "1c3eb616-aabd-46ca-9cb1-5461dcf88368",
   "metadata": {},
   "outputs": [],
   "source": [
    "from fsspec_reference_maker.hdf import SingleHdf5ToZarr \n",
    "from fsspec_reference_maker.combine import MultiZarrToZarr"
   ]
  },
  {
   "cell_type": "code",
   "execution_count": 2,
   "id": "e42b812b-c024-4564-aeea-bdfe565cab02",
   "metadata": {},
   "outputs": [],
   "source": [
    "import xarray as xr\n",
    "import numpy as np\n",
    "import matplotlib.pyplot as plt\n",
    "import s3fs\n",
    "import datetime as dt\n",
    "import zipfile\n",
    "import logging\n",
    "import fsspec\n",
    "import ujson\n",
    "from tqdm import tqdm\n",
    "from glob import glob\n",
    "import os\n",
    "\n",
    "from azure.storage.blob import ContainerClient\n",
    "import tempfile\n",
    "\n",
    "import dask"
   ]
  },
  {
   "cell_type": "markdown",
   "id": "106cc766-c5b5-45e1-b164-0912eeb9f083",
   "metadata": {},
   "source": [
    "## Dask Setup"
   ]
  },
  {
   "cell_type": "code",
   "execution_count": 3,
   "id": "042ef4d2-92ca-445f-b04d-3b7500e80379",
   "metadata": {},
   "outputs": [
    {
     "data": {
      "text/html": [
       "<table style=\"border: 2px solid white;\">\n",
       "<tr>\n",
       "<td style=\"vertical-align: top; border: 0px solid white\">\n",
       "<h3 style=\"text-align: left;\">Client</h3>\n",
       "<ul style=\"text-align: left; list-style: none; margin: 0; padding: 0;\">\n",
       "  <li><b>Scheduler: </b>tcp://127.0.0.1:38723</li>\n",
       "  <li><b>Dashboard: </b><a href='/proxy/8787/status' target='_blank'>/proxy/8787/status</a></li>\n",
       "</ul>\n",
       "</td>\n",
       "<td style=\"vertical-align: top; border: 0px solid white\">\n",
       "<h3 style=\"text-align: left;\">Cluster</h3>\n",
       "<ul style=\"text-align: left; list-style:none; margin: 0; padding: 0;\">\n",
       "  <li><b>Workers: </b>8</li>\n",
       "  <li><b>Cores: </b>8</li>\n",
       "  <li><b>Memory: </b>32.00 GiB</li>\n",
       "</ul>\n",
       "</td>\n",
       "</tr>\n",
       "</table>"
      ],
      "text/plain": [
       "<Client: 'tcp://127.0.0.1:38723' processes=8 threads=8, memory=32.00 GiB>"
      ]
     },
     "execution_count": 3,
     "metadata": {},
     "output_type": "execute_result"
    }
   ],
   "source": [
    "from dask.distributed import Client\n",
    "client = Client(n_workers=8)\n",
    "client"
   ]
  },
  {
   "cell_type": "markdown",
   "id": "32ca9d6b-4f95-45dc-9ae1-9194868c8db4",
   "metadata": {},
   "source": [
    "## Get urls"
   ]
  },
  {
   "cell_type": "code",
   "execution_count": 4,
   "id": "16e1b264-e745-4497-a724-085c57411dd9",
   "metadata": {},
   "outputs": [],
   "source": [
    "fs = fsspec.filesystem('az', account_name='goeseuwest')\n",
    "urllist = ['az://' + f for f in sorted(fs.glob('az://noaa-goes16/ABI-L2-MCMIPF/2020/002/*/*.nc'))]"
   ]
  },
  {
   "cell_type": "markdown",
   "id": "04306750-5da3-4895-93bd-42a71be1bbcd",
   "metadata": {},
   "source": [
    "## Generate json function"
   ]
  },
  {
   "cell_type": "markdown",
   "id": "422848d8-81bb-494e-8c3a-ccac7d885182",
   "metadata": {},
   "source": [
    "### Write to local folder"
   ]
  },
  {
   "cell_type": "code",
   "execution_count": 5,
   "id": "1a862bb8-11a8-4ead-a1bb-399b8cfe6950",
   "metadata": {},
   "outputs": [],
   "source": [
    "from pathlib import Path\n",
    "Path(\"./jsons/\").mkdir(exist_ok=True)\n",
    "\n",
    "@dask.delayed\n",
    "def gen_json(u):\n",
    "    so = dict(\n",
    "        mode=\"rb\", anon=True, default_fill_cache=False, default_cache_type=\"none\"\n",
    "    )\n",
    "    \n",
    "    outpath = './jsons/' + u.split('/')[-1].split('.nc')[0] + '.json'\n",
    "    \n",
    "    with fsspec.open(u, **so, account_name='goeseuwest') as inf:\n",
    "        h5chunks = SingleHdf5ToZarr(inf, u, inline_threshold=300)\n",
    "        \n",
    "        with open(outpath, 'wb') as outf:\n",
    "            outf.write(ujson.dumps(h5chunks.translate()).encode())"
   ]
  },
  {
   "cell_type": "markdown",
   "id": "e5a08e15-80fd-4984-8de7-120f13330d6d",
   "metadata": {},
   "source": [
    "### Write to Azure (requires active subscription)"
   ]
  },
  {
   "cell_type": "code",
   "execution_count": 6,
   "id": "0553f9b3-2d1c-48ed-9a7a-f57219ed7915",
   "metadata": {},
   "outputs": [],
   "source": [
    "\n",
    "# @dask.delayed\n",
    "# def gen_json(u):\n",
    "\n",
    "#     # Get Azure Connection String\n",
    "#     connection_string = os.getenv('azure_connection_string')\n",
    "\n",
    "#     so = dict(\n",
    "#         mode=\"rb\", anon=True, default_fill_cache=False, default_cache_type=\"none\"\n",
    "#     )\n",
    "    \n",
    "#     outpath = 'az://goes-netcdf/' + u.split('az://noaa-goes16/')[-1].split('.nc')[0] + '.json'\n",
    "    \n",
    "#     with fsspec.open(u, **so, account_name='goeseuwest') as inf:\n",
    "#         h5chunks = SingleHdf5ToZarr(inf, u, inline_threshold=300)\n",
    "        \n",
    "        \n",
    "#         with fsspec.open(outpath, 'wb', connection_string=connection_string) as outf:\n",
    "#             outf.write(ujson.dumps(h5chunks.translate()).encode())\n"
   ]
  },
  {
   "cell_type": "markdown",
   "id": "86b82d6e-bd49-47de-a41a-a0f93758a2dc",
   "metadata": {},
   "source": [
    "## Use dask to make jsons"
   ]
  },
  {
   "cell_type": "code",
   "execution_count": 7,
   "id": "00c80470-60f4-43cb-bd2e-bd0d0afa9d3d",
   "metadata": {},
   "outputs": [],
   "source": [
    "out = [gen_json(u) for u in urllist]"
   ]
  },
  {
   "cell_type": "code",
   "execution_count": 8,
   "id": "bf024fb6-0dfb-49e2-a5db-b599be984d39",
   "metadata": {
    "tags": []
   },
   "outputs": [
    {
     "name": "stdout",
     "output_type": "stream",
     "text": [
      "CPU times: user 2min 22s, sys: 30 s, total: 2min 52s\n",
      "Wall time: 41min 54s\n"
     ]
    },
    {
     "data": {
      "text/plain": [
       "(None,\n",
       " None,\n",
       " None,\n",
       " None,\n",
       " None,\n",
       " None,\n",
       " None,\n",
       " None,\n",
       " None,\n",
       " None,\n",
       " None,\n",
       " None,\n",
       " None,\n",
       " None,\n",
       " None,\n",
       " None,\n",
       " None,\n",
       " None,\n",
       " None,\n",
       " None,\n",
       " None,\n",
       " None,\n",
       " None,\n",
       " None,\n",
       " None,\n",
       " None,\n",
       " None,\n",
       " None,\n",
       " None,\n",
       " None,\n",
       " None,\n",
       " None,\n",
       " None,\n",
       " None,\n",
       " None,\n",
       " None,\n",
       " None,\n",
       " None,\n",
       " None,\n",
       " None,\n",
       " None,\n",
       " None,\n",
       " None,\n",
       " None,\n",
       " None,\n",
       " None,\n",
       " None,\n",
       " None,\n",
       " None,\n",
       " None,\n",
       " None,\n",
       " None,\n",
       " None,\n",
       " None,\n",
       " None,\n",
       " None,\n",
       " None,\n",
       " None,\n",
       " None,\n",
       " None,\n",
       " None,\n",
       " None,\n",
       " None,\n",
       " None,\n",
       " None,\n",
       " None,\n",
       " None,\n",
       " None,\n",
       " None,\n",
       " None,\n",
       " None,\n",
       " None,\n",
       " None,\n",
       " None,\n",
       " None,\n",
       " None,\n",
       " None,\n",
       " None,\n",
       " None,\n",
       " None,\n",
       " None,\n",
       " None,\n",
       " None,\n",
       " None,\n",
       " None,\n",
       " None,\n",
       " None,\n",
       " None,\n",
       " None,\n",
       " None,\n",
       " None,\n",
       " None,\n",
       " None,\n",
       " None,\n",
       " None,\n",
       " None,\n",
       " None,\n",
       " None,\n",
       " None,\n",
       " None,\n",
       " None,\n",
       " None,\n",
       " None,\n",
       " None,\n",
       " None,\n",
       " None,\n",
       " None,\n",
       " None,\n",
       " None,\n",
       " None,\n",
       " None,\n",
       " None,\n",
       " None,\n",
       " None,\n",
       " None,\n",
       " None,\n",
       " None,\n",
       " None,\n",
       " None,\n",
       " None,\n",
       " None,\n",
       " None,\n",
       " None,\n",
       " None,\n",
       " None,\n",
       " None,\n",
       " None,\n",
       " None,\n",
       " None,\n",
       " None,\n",
       " None,\n",
       " None,\n",
       " None,\n",
       " None,\n",
       " None,\n",
       " None,\n",
       " None,\n",
       " None,\n",
       " None,\n",
       " None,\n",
       " None,\n",
       " None,\n",
       " None,\n",
       " None)"
      ]
     },
     "execution_count": 8,
     "metadata": {},
     "output_type": "execute_result"
    }
   ],
   "source": [
    "%%time\n",
    "dask.compute(*out);"
   ]
  },
  {
   "cell_type": "markdown",
   "id": "50fba0ae-ff4e-4acc-afc7-64db0402463b",
   "metadata": {},
   "source": [
    "# MultiZarr"
   ]
  },
  {
   "cell_type": "markdown",
   "id": "5418909f-f2dd-49a7-8e83-b419fa02c867",
   "metadata": {},
   "source": [
    "### JSON files were written locally"
   ]
  },
  {
   "cell_type": "code",
   "execution_count": 9,
   "id": "02ae9c7a-a3a5-4391-944b-fd49f8455f85",
   "metadata": {},
   "outputs": [],
   "source": [
    "flist = sorted(glob(\"./jsons/*.json\"))\n",
    "\n",
    "mzz = MultiZarrToZarr(\n",
    "    flist,\n",
    "    remote_protocol='az',\n",
    "    remote_options={\n",
    "       'account_name' : 'goeseuwest'\n",
    "    },    \n",
    "    xarray_open_kwargs={\n",
    "        'decode_cf' : False,\n",
    "        'mask_and_scale' : False,\n",
    "        'decode_times' : False,\n",
    "        'use_cftime' : False,\n",
    "        'decode_coords' : False,\n",
    "    },\n",
    "    xarray_concat_args={\n",
    "        \"data_vars\": \"minimal\",\n",
    "        \"coords\": \"minimal\",\n",
    "        \"compat\": \"override\",\n",
    "        \"join\": \"override\",\n",
    "        \"combine_attrs\": \"override\",\n",
    "        \"dim\": \"t\"\n",
    "\n",
    "    }\n",
    ")"
   ]
  },
  {
   "cell_type": "markdown",
   "id": "0f5176ab-bdf5-4150-92ed-35fa09f41e30",
   "metadata": {},
   "source": [
    "### JSON files were written to Azure above"
   ]
  },
  {
   "cell_type": "code",
   "execution_count": 10,
   "id": "c771a378-5cc1-4430-ad9e-d7b12cf9c259",
   "metadata": {},
   "outputs": [],
   "source": [
    "# connection_string = os.getenv('azure_connection_string')\n",
    "# fs = fsspec.filesystem('az', account_name='test4arco', connection_string=connection_string)\n",
    "# flist = ['az://' + u for u in sorted(fs.glob('az://goes-netcdf/**/*.json'))]\n",
    "\n",
    "# mzz = MultiZarrToZarr(\n",
    "#     flist,\n",
    "#     storage_options = { # This gives access to the JSON files on Azure\n",
    "#         'connection_string' : connection_string\n",
    "#     },\n",
    "#     remote_protocol='az',\n",
    "#     remote_options={\n",
    "#        'account_name' : 'goeseuwest'\n",
    "#     },    \n",
    "#     xarray_open_kwargs={\n",
    "#         'decode_cf' : False,\n",
    "#         'mask_and_scale' : False,\n",
    "#         'decode_times' : False,\n",
    "#         'use_cftime' : False,\n",
    "#         'decode_coords' : False,\n",
    "#     },\n",
    "#     xarray_concat_args={\n",
    "#         \"data_vars\": \"minimal\",\n",
    "#         \"coords\": \"minimal\",\n",
    "#         \"compat\": \"override\",\n",
    "#         \"join\": \"override\",\n",
    "#         \"combine_attrs\": \"override\",\n",
    "#         \"dim\": \"t\"\n",
    "#     }\n",
    "# )"
   ]
  },
  {
   "cell_type": "code",
   "execution_count": 11,
   "id": "796555e9-304b-4871-bdde-8d8bf98744b6",
   "metadata": {
    "tags": []
   },
   "outputs": [
    {
     "name": "stdout",
     "output_type": "stream",
     "text": [
      "CPU times: user 16min 16s, sys: 20.2 s, total: 16min 36s\n",
      "Wall time: 16min 23s\n"
     ]
    }
   ],
   "source": [
    "%%time\n",
    "mzz.translate('./combined.json')"
   ]
  },
  {
   "cell_type": "code",
   "execution_count": 12,
   "id": "3d18a5d0-c41e-4ec0-b590-447c1e76c289",
   "metadata": {},
   "outputs": [
    {
     "name": "stderr",
     "output_type": "stream",
     "text": [
      "distributed.client - ERROR - Failed to reconnect to scheduler after 10.00 seconds, closing client\n",
      "_GatheringFuture exception was never retrieved\n",
      "future: <_GatheringFuture finished exception=CancelledError()>\n",
      "asyncio.exceptions.CancelledError\n"
     ]
    }
   ],
   "source": [
    "client.shutdown()"
   ]
  },
  {
   "cell_type": "markdown",
   "id": "82b11a47-46fd-436e-bf06-46e9a64c3bfc",
   "metadata": {},
   "source": [
    "***\n",
    "## Processing times:\n",
    "|Action | Time | Note |\n",
    "|-------:|:------| :---|\n",
    "|Make individual jsons | 42 minutes | 8 workers |\n",
    "|Make combined json | 16 minutes | |\n",
    "| __Total__ | __58 minutes__ | |"
   ]
  },
  {
   "cell_type": "code",
   "execution_count": null,
   "id": "d58716fc-4ce9-4a55-ae7f-5e31593f362a",
   "metadata": {},
   "outputs": [],
   "source": []
  }
 ],
 "metadata": {
  "kernelspec": {
   "display_name": "Python 3 (ipykernel)",
   "language": "python",
   "name": "python3"
  },
  "language_info": {
   "codemirror_mode": {
    "name": "ipython",
    "version": 3
   },
   "file_extension": ".py",
   "mimetype": "text/x-python",
   "name": "python",
   "nbconvert_exporter": "python",
   "pygments_lexer": "ipython3",
   "version": "3.8.10"
  }
 },
 "nbformat": 4,
 "nbformat_minor": 5
}
