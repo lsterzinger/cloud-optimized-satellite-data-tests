{
 "cells": [
  {
   "cell_type": "code",
   "execution_count": 1,
   "id": "09409ff0-ce1c-4691-ba75-35c0b6f6da4a",
   "metadata": {},
   "outputs": [],
   "source": [
    "from IPython.display import HTML"
   ]
  },
  {
   "cell_type": "code",
   "execution_count": 2,
   "id": "a8d13850-fddf-4eb5-b9ee-1037add566b8",
   "metadata": {
    "tags": []
   },
   "outputs": [],
   "source": [
    "import xarray as xr\n",
    "import numpy as np\n",
    "import matplotlib.pyplot as plt\n",
    "import s3fs\n",
    "import datetime as dt\n",
    "import zipfile\n",
    "import logging\n",
    "import fsspec\n",
    "# import ujson\n",
    "from glob import glob\n",
    "import os\n",
    "\n",
    "from azure.storage.blob import ContainerClient\n",
    "import tempfile\n",
    "from metpy import xarray\n",
    "\n",
    "import cartopy.crs as ccrs\n",
    "import cartopy.feature as cfeature\n",
    "\n",
    "import pandas as pd"
   ]
  },
  {
   "cell_type": "code",
   "execution_count": 3,
   "id": "937e4ab8-ddad-46cb-9ad5-12422d2bad75",
   "metadata": {},
   "outputs": [
    {
     "name": "stderr",
     "output_type": "stream",
     "text": [
      "/srv/conda/envs/notebook/lib/python3.8/site-packages/distributed/node.py:160: UserWarning: Port 8787 is already in use.\n",
      "Perhaps you already have a cluster running?\n",
      "Hosting the HTTP server on port 46153 instead\n",
      "  warnings.warn(\n"
     ]
    },
    {
     "data": {
      "text/html": [
       "<table style=\"border: 2px solid white;\">\n",
       "<tr>\n",
       "<td style=\"vertical-align: top; border: 0px solid white\">\n",
       "<h3 style=\"text-align: left;\">Client</h3>\n",
       "<ul style=\"text-align: left; list-style: none; margin: 0; padding: 0;\">\n",
       "  <li><b>Scheduler: </b>tcp://127.0.0.1:42333</li>\n",
       "  <li><b>Dashboard: </b><a href='/proxy/8787/status' target='_blank'>/proxy/8787/status</a></li>\n",
       "</ul>\n",
       "</td>\n",
       "<td style=\"vertical-align: top; border: 0px solid white\">\n",
       "<h3 style=\"text-align: left;\">Cluster</h3>\n",
       "<ul style=\"text-align: left; list-style:none; margin: 0; padding: 0;\">\n",
       "  <li><b>Workers: </b>8</li>\n",
       "  <li><b>Cores: </b>8</li>\n",
       "  <li><b>Memory: </b>32.00 GiB</li>\n",
       "</ul>\n",
       "</td>\n",
       "</tr>\n",
       "</table>"
      ],
      "text/plain": [
       "<Client: 'tcp://127.0.0.1:42333' processes=8 threads=8, memory=32.00 GiB>"
      ]
     },
     "execution_count": 3,
     "metadata": {},
     "output_type": "execute_result"
    }
   ],
   "source": [
    "from dask.distributed import Client\n",
    "client = Client(n_workers=8)\n",
    "client"
   ]
  },
  {
   "cell_type": "markdown",
   "id": "c5b995ca-ca15-43df-bb6c-b6ebfbf7c449",
   "metadata": {},
   "source": [
    "### Do setup stuff to get file paths"
   ]
  },
  {
   "cell_type": "code",
   "execution_count": 4,
   "id": "970ae409-2552-434c-be62-0112e0c722a7",
   "metadata": {},
   "outputs": [
    {
     "name": "stdout",
     "output_type": "stream",
     "text": [
      "CPU times: user 17.7 s, sys: 1.94 s, total: 19.7 s\n",
      "Wall time: 34.8 s\n"
     ]
    }
   ],
   "source": [
    "%%time\n",
    "fs = fsspec.filesystem(\"reference\", fo=\"../ReferenceMaker/combined.json\",\n",
    "                       remote_protocol='az', remote_options=dict(account_name='goeseuwest'),\n",
    "                       simple_templates=True)\n",
    "m = fs.get_mapper(\"\")\n",
    "# urllist = [goes_blob_root + u + \"#mode=bytes\" for u in blobs]"
   ]
  },
  {
   "cell_type": "code",
   "execution_count": 5,
   "id": "6cc0807f-faba-403c-ae73-811d0ee4ae02",
   "metadata": {},
   "outputs": [
    {
     "name": "stdout",
     "output_type": "stream",
     "text": [
      "CPU times: user 17.8 s, sys: 673 ms, total: 18.4 s\n",
      "Wall time: 18.2 s\n"
     ]
    }
   ],
   "source": [
    "%%time\n",
    "ds = xr.open_dataset(m, engine='zarr')"
   ]
  },
  {
   "cell_type": "code",
   "execution_count": 3,
   "id": "8da79b3f-8fb1-4fac-972b-42941afef4ae",
   "metadata": {},
   "outputs": [],
   "source": [
    "connection_string = os.getenv('azure_connection_string')"
   ]
  },
  {
   "cell_type": "code",
   "execution_count": 6,
   "id": "7e122866-dc4c-4c15-be26-6a77a849bc5b",
   "metadata": {},
   "outputs": [],
   "source": [
    "fs_out = fsspec.get_mapper('az://goes-zarr/goes_from_reference.zarr/', connection_string=connection_string)\n"
   ]
  },
  {
   "cell_type": "code",
   "execution_count": null,
   "id": "5656b06e-a430-4d9e-b8cc-b6bcd662c01f",
   "metadata": {},
   "outputs": [],
   "source": [
    "%%time\n",
    "out = ds.to_zarr(fs_out, mode='w', compute=False)"
   ]
  },
  {
   "cell_type": "code",
   "execution_count": null,
   "id": "02c71ef3-e1ac-440b-9420-c5951e64f629",
   "metadata": {},
   "outputs": [],
   "source": [
    "%%time\n",
    "import dask\n",
    "dask.compute(out)"
   ]
  }
 ],
 "metadata": {
  "kernelspec": {
   "display_name": "Python 3 (ipykernel)",
   "language": "python",
   "name": "python3"
  },
  "language_info": {
   "codemirror_mode": {
    "name": "ipython",
    "version": 3
   },
   "file_extension": ".py",
   "mimetype": "text/x-python",
   "name": "python",
   "nbconvert_exporter": "python",
   "pygments_lexer": "ipython3",
   "version": "3.8.10"
  }
 },
 "nbformat": 4,
 "nbformat_minor": 5
}
